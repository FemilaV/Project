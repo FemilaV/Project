{
 "cells": [
  {
   "cell_type": "code",
   "execution_count": 1,
   "id": "51147253",
   "metadata": {
    "collapsed": true
   },
   "outputs": [
    {
     "name": "stdout",
     "output_type": "stream",
     "text": [
      "Collecting metadata_parser\n",
      "  Downloading metadata_parser-0.10.5.tar.gz (50 kB)\n",
      "  Installing build dependencies: started\n",
      "  Installing build dependencies: finished with status 'done'\n",
      "  Getting requirements to build wheel: started\n",
      "  Getting requirements to build wheel: finished with status 'done'\n",
      "    Preparing wheel metadata: started\n",
      "    Preparing wheel metadata: finished with status 'done'\n",
      "Collecting requests-toolbelt>=0.8.0\n",
      "  Downloading requests_toolbelt-0.9.1-py2.py3-none-any.whl (54 kB)\n",
      "Requirement already satisfied: BeautifulSoup4 in c:\\programdata\\anaconda3\\lib\\site-packages (from metadata_parser) (4.9.3)\n",
      "Requirement already satisfied: six in c:\\programdata\\anaconda3\\lib\\site-packages (from metadata_parser) (1.15.0)\n",
      "Requirement already satisfied: requests>=2.19.1 in c:\\programdata\\anaconda3\\lib\\site-packages (from metadata_parser) (2.25.1)\n",
      "Requirement already satisfied: urllib3<1.27,>=1.21.1 in c:\\programdata\\anaconda3\\lib\\site-packages (from requests>=2.19.1->metadata_parser) (1.26.4)\n",
      "Requirement already satisfied: certifi>=2017.4.17 in c:\\programdata\\anaconda3\\lib\\site-packages (from requests>=2.19.1->metadata_parser) (2020.12.5)\n",
      "Requirement already satisfied: chardet<5,>=3.0.2 in c:\\programdata\\anaconda3\\lib\\site-packages (from requests>=2.19.1->metadata_parser) (4.0.0)\n",
      "Requirement already satisfied: idna<3,>=2.5 in c:\\programdata\\anaconda3\\lib\\site-packages (from requests>=2.19.1->metadata_parser) (2.10)\n",
      "Requirement already satisfied: soupsieve>1.2 in c:\\programdata\\anaconda3\\lib\\site-packages (from BeautifulSoup4->metadata_parser) (2.2.1)\n",
      "Building wheels for collected packages: metadata-parser\n",
      "  Building wheel for metadata-parser (PEP 517): started\n",
      "  Building wheel for metadata-parser (PEP 517): finished with status 'done'\n",
      "  Created wheel for metadata-parser: filename=metadata_parser-0.10.5-py3-none-any.whl size=26672 sha256=e4f90a76540d1fa0827df115d91a6d0bc8aa1f62245b32b47b6726b63c7c7bd7\n",
      "  Stored in directory: c:\\users\\dell\\appdata\\local\\pip\\cache\\wheels\\ec\\50\\22\\896de1f98c526869a39d6f404cdaf650a98c00eb6980bc246b\n",
      "Successfully built metadata-parser\n",
      "Installing collected packages: requests-toolbelt, metadata-parser\n",
      "Successfully installed metadata-parser-0.10.5 requests-toolbelt-0.9.1\n"
     ]
    }
   ],
   "source": [
    "!pip install metadata_parser"
   ]
  },
  {
   "cell_type": "code",
   "execution_count": 2,
   "id": "14800af8",
   "metadata": {},
   "outputs": [],
   "source": [
    "import metadata_parser"
   ]
  },
  {
   "cell_type": "code",
   "execution_count": 4,
   "id": "2121ca03",
   "metadata": {},
   "outputs": [
    {
     "name": "stderr",
     "output_type": "stream",
     "text": [
      "C:\\ProgramData\\Anaconda3\\lib\\site-packages\\metadata_parser\\__init__.py:1331: FutureWarning: `search_head_only` was not provided and defaulting to `True` Future versions will default to `False`.\n",
      "  warn_future(\n"
     ]
    },
    {
     "name": "stdout",
     "output_type": "stream",
     "text": [
      "{'og': {}, 'meta': {'viewport': 'width=device-width, initial-scale=1.0'}, 'dc': {}, 'page': {'title': 'GDACS - Global Disaster Alerting and Coordination System'}, 'twitter': {}, '_internal': {'url': 'https://gdacs.org/Alerts/default.aspx', 'url_actual': 'https://gdacs.org/Alerts/default.aspx', 'encoding': 'utf-8'}, '_v': 1}\n"
     ]
    }
   ],
   "source": [
    "url = 'https://gdacs.org/Alerts/default.aspx'\n",
    "meta = metadata_parser.MetadataParser(url)\n",
    "print(meta.metadata)"
   ]
  },
  {
   "cell_type": "code",
   "execution_count": null,
   "id": "2b6ca5f0",
   "metadata": {},
   "outputs": [],
   "source": []
  }
 ],
 "metadata": {
  "kernelspec": {
   "display_name": "Python 3",
   "language": "python",
   "name": "python3"
  },
  "language_info": {
   "codemirror_mode": {
    "name": "ipython",
    "version": 3
   },
   "file_extension": ".py",
   "mimetype": "text/x-python",
   "name": "python",
   "nbconvert_exporter": "python",
   "pygments_lexer": "ipython3",
   "version": "3.8.8"
  }
 },
 "nbformat": 4,
 "nbformat_minor": 5
}
